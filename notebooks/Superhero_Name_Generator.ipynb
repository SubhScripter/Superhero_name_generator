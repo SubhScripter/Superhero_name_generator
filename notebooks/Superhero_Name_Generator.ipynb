{
  "cells": [
    {
      "cell_type": "markdown",
      "metadata": {
        "id": "H6P0NU5Cpt2R"
      },
      "source": [
        "## IMPORTING DATA"
      ]
    },
    {
      "cell_type": "code",
      "execution_count": 1,
      "metadata": {
        "colab": {
          "base_uri": "https://localhost:8080/"
        },
        "id": "srULhalZpt2M",
        "outputId": "c48667aa-d158-4573-8929-414a9049bcf5"
      },
      "outputs": [
        {
          "output_type": "stream",
          "name": "stdout",
          "text": [
            "Cloning into 'superhero'...\n",
            "remote: Enumerating objects: 8, done.\u001b[K\n",
            "remote: Counting objects: 100% (8/8), done.\u001b[K\n",
            "remote: Compressing objects: 100% (7/7), done.\u001b[K\n",
            "remote: Total 8 (delta 0), reused 4 (delta 0), pack-reused 0\u001b[K\n",
            "Receiving objects: 100% (8/8), 47.08 KiB | 1.57 MiB/s, done.\n"
          ]
        }
      ],
      "source": [
        "!git clone https://github.com/am1tyadav/superhero"
      ]
    },
    {
      "cell_type": "code",
      "execution_count": 2,
      "metadata": {
        "id": "uq4CLmsLpt2P"
      },
      "outputs": [],
      "source": [
        "with open('superhero/superheroes.txt', 'r') as f:\n",
        "  data = f.read()"
      ]
    },
    {
      "cell_type": "markdown",
      "metadata": {
        "id": "NJFXF7sJx0jC"
      },
      "source": [
        "## CREATING TOKENIZER"
      ]
    },
    {
      "cell_type": "code",
      "execution_count": 3,
      "metadata": {
        "id": "JqhtLuAHpt2R"
      },
      "outputs": [],
      "source": [
        "import tensorflow as tf"
      ]
    },
    {
      "cell_type": "code",
      "execution_count": 4,
      "metadata": {
        "id": "95Lo1Yqzpt2T"
      },
      "outputs": [],
      "source": [
        "#Creating tokenizer. Tokenization basically means creating numeric representation of the characters in the dataset.\n",
        "tokenizer = tf.keras.preprocessing.text.Tokenizer(\n",
        "    filters='!\"#$%&()*+,-./:;<=>?@[\\\\]^_`{|}~', #Filtering out all the symbols not wanted to be used in the vocabulary\n",
        "    split='\\n',\n",
        ")"
      ]
    },
    {
      "cell_type": "code",
      "execution_count": 5,
      "metadata": {
        "id": "qYfC4sj2pt2V"
      },
      "outputs": [],
      "source": [
        "tokenizer.fit_on_texts(data)"
      ]
    },
    {
      "cell_type": "code",
      "execution_count": 6,
      "metadata": {
        "id": "EO4-dPM6pt2X"
      },
      "outputs": [],
      "source": [
        "char_to_index = tokenizer.word_index #mapping i.e. dicts\n",
        "index_to_char = dict((v,k) for k,v in char_to_index.items())"
      ]
    },
    {
      "cell_type": "markdown",
      "metadata": {
        "id": "SMwtIw_Bpt2Z"
      },
      "source": [
        "## CONVERTING BETWEEN NAMES AND SEQUENCES\n"
      ]
    },
    {
      "cell_type": "code",
      "execution_count": 7,
      "metadata": {
        "id": "N7iQLIXzpt2a"
      },
      "outputs": [],
      "source": [
        "names = data.splitlines()  # splitting into lines"
      ]
    },
    {
      "cell_type": "code",
      "execution_count": 8,
      "metadata": {
        "colab": {
          "base_uri": "https://localhost:8080/"
        },
        "id": "n_-TTfqipt2c",
        "outputId": "4435b105-6503-4663-dcf6-3c9b01bf588b"
      },
      "outputs": [
        {
          "output_type": "execute_result",
          "data": {
            "text/plain": [
              "[[25], [16], [12], [20], [2], [1]]"
            ]
          },
          "metadata": {},
          "execution_count": 8
        }
      ],
      "source": [
        "tokenizer.texts_to_sequences(names[0]) #the 1 at the end is for the tab character"
      ]
    },
    {
      "cell_type": "code",
      "execution_count": 9,
      "metadata": {
        "id": "P6IsKH1Upt2e"
      },
      "outputs": [],
      "source": [
        "def name_to_seq(name):\n",
        "  return [tokenizer.texts_to_sequences(c)[0][0] for c in name] #return it as an array of the sequence"
      ]
    },
    {
      "cell_type": "code",
      "execution_count": 10,
      "metadata": {
        "colab": {
          "base_uri": "https://localhost:8080/"
        },
        "id": "ZRhCHj4t1EWZ",
        "outputId": "b6cfc21d-7d9e-40e2-b8c9-74d24190023d"
      },
      "outputs": [
        {
          "output_type": "execute_result",
          "data": {
            "text/plain": [
              "[25, 16, 12, 20, 2, 1]"
            ]
          },
          "metadata": {},
          "execution_count": 10
        }
      ],
      "source": [
        "name_to_seq(names[0])"
      ]
    },
    {
      "cell_type": "code",
      "execution_count": 11,
      "metadata": {
        "id": "TuLUiMP3pt2g"
      },
      "outputs": [],
      "source": [
        "def seq_to_name(seq):\n",
        "  return ''.join([index_to_char[i] for i in seq if i!= 0])"
      ]
    },
    {
      "cell_type": "code",
      "execution_count": 12,
      "metadata": {
        "colab": {
          "base_uri": "https://localhost:8080/",
          "height": 35
        },
        "id": "yFUYhimKpt2h",
        "outputId": "19e6711b-173d-4cf2-93b8-5f3f31b9d3b2"
      },
      "outputs": [
        {
          "output_type": "execute_result",
          "data": {
            "text/plain": [
              "'jumpa\\t'"
            ],
            "application/vnd.google.colaboratory.intrinsic+json": {
              "type": "string"
            }
          },
          "metadata": {},
          "execution_count": 12
        }
      ],
      "source": [
        "seq_to_name(name_to_seq(names[0]))"
      ]
    },
    {
      "cell_type": "markdown",
      "metadata": {
        "id": "uCbAzsNjpt2m"
      },
      "source": [
        "## CREATING AND PADDING SEQUENCES\n"
      ]
    },
    {
      "cell_type": "code",
      "execution_count": 13,
      "metadata": {
        "id": "zstNn-0dpt2m"
      },
      "outputs": [],
      "source": [
        "sequences = []\n",
        "\n",
        "for name in names:\n",
        "  seq = name_to_seq(name)\n",
        "  if len(seq) >= 2:\n",
        "    sequences += [seq[:i] for i in range(2, len(seq)+1)]"
      ]
    },
    {
      "cell_type": "code",
      "execution_count": 14,
      "metadata": {
        "colab": {
          "base_uri": "https://localhost:8080/"
        },
        "id": "BjRTMysvpt2o",
        "outputId": "796cc241-1fd2-4320-9373-569dd249b3a7"
      },
      "outputs": [
        {
          "output_type": "execute_result",
          "data": {
            "text/plain": [
              "[[25, 16],\n",
              " [25, 16, 12],\n",
              " [25, 16, 12, 20],\n",
              " [25, 16, 12, 20, 2],\n",
              " [25, 16, 12, 20, 2, 1],\n",
              " [14, 5],\n",
              " [14, 5, 15],\n",
              " [14, 5, 15, 9],\n",
              " [14, 5, 15, 9, 5],\n",
              " [14, 5, 15, 9, 5, 4]]"
            ]
          },
          "metadata": {},
          "execution_count": 14
        }
      ],
      "source": [
        "sequences[:10]"
      ]
    },
    {
      "cell_type": "code",
      "execution_count": 15,
      "metadata": {
        "id": "SR68pu2tpt2q"
      },
      "outputs": [],
      "source": [
        "max_len = max([len(j) for j in sequences]) #We need this as there will be a fixed length feeded to the model and not a variable, hence padding is required"
      ]
    },
    {
      "cell_type": "code",
      "execution_count": 16,
      "metadata": {
        "colab": {
          "base_uri": "https://localhost:8080/"
        },
        "id": "h_1BtWO7pt2r",
        "outputId": "83fb4c6a-15c8-4331-852c-26304222f05e"
      },
      "outputs": [
        {
          "output_type": "execute_result",
          "data": {
            "text/plain": [
              "array([ 0,  0,  0,  0,  0,  0,  0,  0,  0,  0,  0,  0,  0,  0,  0,  0,  0,\n",
              "        0,  0,  0,  0,  0,  0,  0,  0,  0,  0,  0,  0,  0,  0, 25, 16],\n",
              "      dtype=int32)"
            ]
          },
          "metadata": {},
          "execution_count": 16
        }
      ],
      "source": [
        "padded_seq =  tf.keras.preprocessing.sequence.pad_sequences(\n",
        "    sequences, padding ='pre',\n",
        "    maxlen = max_len\n",
        ")\n",
        "padded_seq[0]"
      ]
    },
    {
      "cell_type": "code",
      "execution_count": 17,
      "metadata": {
        "colab": {
          "base_uri": "https://localhost:8080/"
        },
        "id": "sPlrLRpSpt2t",
        "outputId": "c12e7cb7-6d1b-4486-c41c-30bc0d818fe7"
      },
      "outputs": [
        {
          "output_type": "execute_result",
          "data": {
            "text/plain": [
              "(88279, 33)"
            ]
          },
          "metadata": {},
          "execution_count": 17
        }
      ],
      "source": [
        "padded_seq.shape"
      ]
    },
    {
      "cell_type": "markdown",
      "metadata": {
        "id": "dNmULGsQrFAS"
      },
      "source": [
        "## CREATING TRAINING AND VALIDATION SETS"
      ]
    },
    {
      "cell_type": "code",
      "execution_count": 18,
      "metadata": {
        "colab": {
          "base_uri": "https://localhost:8080/"
        },
        "id": "BE4BIeSnpt2v",
        "outputId": "82db0244-90c9-43cc-f2b1-9135e4b7a3ee"
      },
      "outputs": [
        {
          "output_type": "execute_result",
          "data": {
            "text/plain": [
              "((88279, 32), (88279,))"
            ]
          },
          "metadata": {},
          "execution_count": 18
        }
      ],
      "source": [
        "x, y = padded_seq[:, :-1], padded_seq[:, -1]\n",
        "x.shape, y.shape"
      ]
    },
    {
      "cell_type": "code",
      "execution_count": 19,
      "metadata": {
        "colab": {
          "base_uri": "https://localhost:8080/"
        },
        "id": "irbIJdEPrFAS",
        "outputId": "a02d9184-a37b-454d-8ec6-2aa897687a57"
      },
      "outputs": [
        {
          "output_type": "stream",
          "name": "stdout",
          "text": [
            "(66209, 32) (66209,)\n",
            "(22070, 32) (22070,)\n"
          ]
        }
      ],
      "source": [
        "from sklearn.model_selection import train_test_split\n",
        "x_train, x_test, y_train, y_test = train_test_split(x,y)\n",
        "\n",
        "print(x_train.shape, y_train.shape)\n",
        "print(x_test.shape, y_test.shape)"
      ]
    },
    {
      "cell_type": "code",
      "execution_count": 20,
      "metadata": {
        "colab": {
          "base_uri": "https://localhost:8080/"
        },
        "id": "cgqRZtqnpt2x",
        "outputId": "d04510ed-6417-4bfd-ad27-dd1d2631671a"
      },
      "outputs": [
        {
          "output_type": "stream",
          "name": "stdout",
          "text": [
            "29\n"
          ]
        }
      ],
      "source": [
        "#looking at vocab\n",
        "num_chars = len(char_to_index.keys()) +1\n",
        "print(num_chars)"
      ]
    },
    {
      "cell_type": "markdown",
      "metadata": {
        "id": "tyfFBVc-rFAT"
      },
      "source": [
        "## CREATING THE MODEL"
      ]
    },
    {
      "cell_type": "code",
      "execution_count": 21,
      "metadata": {
        "colab": {
          "base_uri": "https://localhost:8080/"
        },
        "id": "1Kv9pQkprFAT",
        "outputId": "1aa07567-650c-482a-a3d9-3730add0c057"
      },
      "outputs": [
        {
          "output_type": "stream",
          "name": "stdout",
          "text": [
            "Model: \"sequential\"\n",
            "_________________________________________________________________\n",
            " Layer (type)                Output Shape              Param #   \n",
            "=================================================================\n",
            " embedding (Embedding)       (None, 32, 8)             232       \n",
            "                                                                 \n",
            " conv1d (Conv1D)             (None, 32, 64)            2624      \n",
            "                                                                 \n",
            " max_pooling1d (MaxPooling1  (None, 16, 64)            0         \n",
            " D)                                                              \n",
            "                                                                 \n",
            " lstm (LSTM)                 (None, 32)                12416     \n",
            "                                                                 \n",
            " dense (Dense)               (None, 29)                957       \n",
            "                                                                 \n",
            "=================================================================\n",
            "Total params: 16229 (63.39 KB)\n",
            "Trainable params: 16229 (63.39 KB)\n",
            "Non-trainable params: 0 (0.00 Byte)\n",
            "_________________________________________________________________\n"
          ]
        }
      ],
      "source": [
        "from tensorflow.keras.models import Sequential\n",
        "from tensorflow.keras.layers import Embedding, Conv1D, MaxPool1D, LSTM\n",
        "from tensorflow.keras.layers import Bidirectional, Dense\n",
        "\n",
        "model = Sequential([\n",
        "    Embedding (num_chars, 8, input_length = max_len-1), #8 is the length of the feature vector which is given as output\n",
        "    Conv1D(64,5, strides =1, activation = 'tanh', padding = 'causal' ), #temporal (sequential) order of output is not violated by causal padding\n",
        "    MaxPool1D(2),\n",
        "    LSTM(32), #32 hidden layers\n",
        "    Dense(num_chars, activation = 'softmax')\n",
        "])\n",
        "\n",
        "model.compile(\n",
        "    loss = 'sparse_categorical_crossentropy',\n",
        "    optimizer = 'adam',\n",
        "    metrics = ['accuracy']\n",
        ")\n",
        "model.summary()"
      ]
    },
    {
      "cell_type": "markdown",
      "metadata": {
        "id": "r8nRJJz-rFAT"
      },
      "source": [
        "## TRAINING THE MODEL"
      ]
    },
    {
      "cell_type": "code",
      "execution_count": 22,
      "metadata": {
        "colab": {
          "base_uri": "https://localhost:8080/"
        },
        "id": "j0Ssl4qupt22",
        "outputId": "c8fc1cec-c528-40ba-d3b2-2bad32cfd5e1"
      },
      "outputs": [
        {
          "output_type": "stream",
          "name": "stdout",
          "text": [
            "Epoch 1/50\n",
            "2070/2070 - 26s - loss: 2.7556 - accuracy: 0.1895 - val_loss: 2.6026 - val_accuracy: 0.2247 - 26s/epoch - 13ms/step\n",
            "Epoch 2/50\n",
            "2070/2070 - 12s - loss: 2.5468 - accuracy: 0.2341 - val_loss: 2.5145 - val_accuracy: 0.2401 - 12s/epoch - 6ms/step\n",
            "Epoch 3/50\n",
            "2070/2070 - 11s - loss: 2.4717 - accuracy: 0.2566 - val_loss: 2.4583 - val_accuracy: 0.2643 - 11s/epoch - 5ms/step\n",
            "Epoch 4/50\n",
            "2070/2070 - 12s - loss: 2.4179 - accuracy: 0.2682 - val_loss: 2.4151 - val_accuracy: 0.2671 - 12s/epoch - 6ms/step\n",
            "Epoch 5/50\n",
            "2070/2070 - 11s - loss: 2.3770 - accuracy: 0.2760 - val_loss: 2.3861 - val_accuracy: 0.2774 - 11s/epoch - 5ms/step\n",
            "Epoch 6/50\n",
            "2070/2070 - 12s - loss: 2.3444 - accuracy: 0.2857 - val_loss: 2.3681 - val_accuracy: 0.2812 - 12s/epoch - 6ms/step\n",
            "Epoch 7/50\n",
            "2070/2070 - 11s - loss: 2.3175 - accuracy: 0.2967 - val_loss: 2.3498 - val_accuracy: 0.2883 - 11s/epoch - 5ms/step\n",
            "Epoch 8/50\n",
            "2070/2070 - 11s - loss: 2.2937 - accuracy: 0.3045 - val_loss: 2.3296 - val_accuracy: 0.2937 - 11s/epoch - 6ms/step\n",
            "Epoch 9/50\n",
            "2070/2070 - 11s - loss: 2.2718 - accuracy: 0.3122 - val_loss: 2.3225 - val_accuracy: 0.2986 - 11s/epoch - 6ms/step\n",
            "Epoch 10/50\n",
            "2070/2070 - 12s - loss: 2.2526 - accuracy: 0.3195 - val_loss: 2.3068 - val_accuracy: 0.3066 - 12s/epoch - 6ms/step\n",
            "Epoch 11/50\n",
            "2070/2070 - 11s - loss: 2.2332 - accuracy: 0.3268 - val_loss: 2.2972 - val_accuracy: 0.3126 - 11s/epoch - 5ms/step\n",
            "Epoch 12/50\n",
            "2070/2070 - 11s - loss: 2.2147 - accuracy: 0.3348 - val_loss: 2.2918 - val_accuracy: 0.3147 - 11s/epoch - 5ms/step\n",
            "Epoch 13/50\n",
            "2070/2070 - 12s - loss: 2.1992 - accuracy: 0.3396 - val_loss: 2.2798 - val_accuracy: 0.3155 - 12s/epoch - 6ms/step\n",
            "Epoch 14/50\n",
            "2070/2070 - 11s - loss: 2.1844 - accuracy: 0.3431 - val_loss: 2.2681 - val_accuracy: 0.3227 - 11s/epoch - 6ms/step\n",
            "Epoch 15/50\n",
            "2070/2070 - 12s - loss: 2.1699 - accuracy: 0.3477 - val_loss: 2.2615 - val_accuracy: 0.3275 - 12s/epoch - 6ms/step\n",
            "Epoch 16/50\n",
            "2070/2070 - 11s - loss: 2.1563 - accuracy: 0.3535 - val_loss: 2.2567 - val_accuracy: 0.3276 - 11s/epoch - 5ms/step\n",
            "Epoch 17/50\n",
            "2070/2070 - 11s - loss: 2.1441 - accuracy: 0.3563 - val_loss: 2.2565 - val_accuracy: 0.3269 - 11s/epoch - 5ms/step\n",
            "Epoch 18/50\n",
            "2070/2070 - 11s - loss: 2.1338 - accuracy: 0.3619 - val_loss: 2.2477 - val_accuracy: 0.3327 - 11s/epoch - 5ms/step\n",
            "Epoch 19/50\n",
            "2070/2070 - 12s - loss: 2.1225 - accuracy: 0.3643 - val_loss: 2.2415 - val_accuracy: 0.3341 - 12s/epoch - 6ms/step\n",
            "Epoch 20/50\n",
            "2070/2070 - 12s - loss: 2.1127 - accuracy: 0.3672 - val_loss: 2.2364 - val_accuracy: 0.3389 - 12s/epoch - 6ms/step\n",
            "Epoch 21/50\n",
            "2070/2070 - 12s - loss: 2.1033 - accuracy: 0.3710 - val_loss: 2.2373 - val_accuracy: 0.3370 - 12s/epoch - 6ms/step\n",
            "Epoch 22/50\n",
            "2070/2070 - 12s - loss: 2.0946 - accuracy: 0.3727 - val_loss: 2.2326 - val_accuracy: 0.3398 - 12s/epoch - 6ms/step\n",
            "Epoch 23/50\n",
            "2070/2070 - 11s - loss: 2.0861 - accuracy: 0.3759 - val_loss: 2.2290 - val_accuracy: 0.3428 - 11s/epoch - 5ms/step\n",
            "Epoch 24/50\n",
            "2070/2070 - 12s - loss: 2.0789 - accuracy: 0.3786 - val_loss: 2.2301 - val_accuracy: 0.3413 - 12s/epoch - 6ms/step\n",
            "Epoch 25/50\n",
            "2070/2070 - 12s - loss: 2.0705 - accuracy: 0.3809 - val_loss: 2.2309 - val_accuracy: 0.3406 - 12s/epoch - 6ms/step\n",
            "Epoch 26/50\n",
            "2070/2070 - 11s - loss: 2.0634 - accuracy: 0.3823 - val_loss: 2.2265 - val_accuracy: 0.3410 - 11s/epoch - 5ms/step\n"
          ]
        }
      ],
      "source": [
        "x = model.fit(\n",
        "    x_train, y_train,\n",
        "    validation_data = (x_test, y_test),\n",
        "    epochs = 50, verbose =2,\n",
        "    callbacks= [tf.keras.callbacks.EarlyStopping(monitor = 'val_accuracy', patience =3)]#patience is the number of epochs during which the monitored metric (e.g., validation loss or validation accuracy) is allowed to not improve before training is halted.\n",
        ")"
      ]
    },
    {
      "cell_type": "code",
      "execution_count": 23,
      "metadata": {
        "colab": {
          "base_uri": "https://localhost:8080/",
          "height": 430
        },
        "id": "n-dOt2I1sGIV",
        "outputId": "a2af8d86-5be2-45ff-ff23-e030c8c29666"
      },
      "outputs": [
        {
          "output_type": "display_data",
          "data": {
            "text/plain": [
              "<Figure size 640x480 with 1 Axes>"
            ],
            "image/png": "[encoded data removed]"
          },
          "metadata": {}
        }
      ],
      "source": [
        "from matplotlib import pyplot as plt\n",
        "epochs_ran = len(x.history['loss'])\n",
        "plt.plot(range(0, epochs_ran), x.history['val_accuracy'], label = \"Validation\")\n",
        "plt.plot(range(0, epochs_ran), x.history['accuracy'], label = \"Training\")\n",
        "plt.legend()\n",
        "plt.show()"
      ]
    },
    {
      "cell_type": "markdown",
      "metadata": {
        "id": "DWO0U-7wrFAT"
      },
      "source": [
        "## GENERATING NAMES\n"
      ]
    },
    {
      "cell_type": "code",
      "execution_count": 24,
      "metadata": {
        "id": "9f50aTRcpt24"
      },
      "outputs": [],
      "source": [
        "def gen_names(seed):\n",
        "  for i in range(0, 40):\n",
        "    seq = name_to_seq(seed)\n",
        "    padded = tf.keras.preprocessing.sequence.pad_sequences([seq], padding = 'pre',\n",
        "                                                           maxlen = max_len-1,\n",
        "                                                           truncating = 'pre') #to see the early numbers of the seed\n",
        "    pred = model.predict(padded)[0]\n",
        "    pred_char = index_to_char[tf.argmax(pred).numpy()]\n",
        "    seed += pred_char\n",
        "\n",
        "    if pred_char=='\\t':\n",
        "      break\n",
        "  print (seed)"
      ]
    },
    {
      "cell_type": "code",
      "execution_count": 28,
      "metadata": {
        "colab": {
          "base_uri": "https://localhost:8080/"
        },
        "id": "faQ0FInlpt26",
        "outputId": "a4356d1b-2431-419a-bb9e-247525e477d2"
      },
      "outputs": [
        {
          "output_type": "stream",
          "name": "stdout",
          "text": [
            "1/1 [==============================] - 0s 64ms/step\n",
            "1/1 [==============================] - 0s 41ms/step\n",
            "1/1 [==============================] - 0s 29ms/step\n",
            "Brood\t\n",
            "33\n"
          ]
        }
      ],
      "source": [
        "gen_names('Bro')\n",
        "print(max_len)"
      ]
    },
    {
      "cell_type": "code",
      "source": [
        "import pickle\n",
        "# Save the model and tokenizer\n",
        "model.save(\"superhero_model.h5\")\n",
        "\n",
        "tokenizer_path = '/content/tokenizer.pkl'\n",
        "with open(tokenizer_path, 'wb') as tokenizer_file:\n",
        "    pickle.dump(tokenizer, tokenizer_file)"
      ],
      "metadata": {
        "id": "vHHAqVQ7NV_i",
        "colab": {
          "base_uri": "https://localhost:8080/"
        },
        "outputId": "3a790312-bd4a-4b50-9671-9baa803543d4"
      },
      "execution_count": 27,
      "outputs": [
        {
          "output_type": "stream",
          "name": "stderr",
          "text": [
            "/usr/local/lib/python3.10/dist-packages/keras/src/engine/training.py:3103: UserWarning: You are saving your model as an HDF5 file via `model.save()`. This file format is considered legacy. We recommend using instead the native Keras format, e.g. `model.save('my_model.keras')`.\n",
            "  saving_api.save_model(\n"
          ]
        }
      ]
    },
    {
      "cell_type": "code",
      "source": [],
      "metadata": {
        "id": "PSqphAjSG-O1"
      },
      "execution_count": null,
      "outputs": []
    }
  ],
  "metadata": {
    "accelerator": "GPU",
    "colab": {
      "provenance": [],
      "gpuType": "T4"
    },
    "kernelspec": {
      "display_name": "Python 3",
      "name": "python3"
    },
    "language_info": {
      "codemirror_mode": {
        "name": "ipython",
        "version": 3
      },
      "file_extension": ".py",
      "mimetype": "text/x-python",
      "name": "python",
      "nbconvert_exporter": "python",
      "pygments_lexer": "ipython3",
      "version": "3.8.3"
    }
  },
  "nbformat": 4,
  "nbformat_minor": 0
}